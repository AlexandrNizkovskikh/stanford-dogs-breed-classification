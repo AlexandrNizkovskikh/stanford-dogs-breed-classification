{
  "cells": [
    {
      "cell_type": "code",
      "execution_count": null,
      "metadata": {
        "id": "CWESaQ6yKviE"
      },
      "outputs": [],
      "source": [
        "# Ваше решение\n",
        "!pip install --upgrade keras==3.0"
      ]
    },
    {
      "cell_type": "code",
      "execution_count": null,
      "metadata": {
        "id": "kUmmT-9wgl17"
      },
      "outputs": [],
      "source": [
        "import keras\n",
        "import matplotlib.pyplot as plt\n",
        "%matplotlib inline\n",
        "\n",
        "from tensorflow import data as tf_data\n",
        "import os\n",
        "import random\n",
        "from keras import layers\n",
        "from keras.applications import EfficientNetV2B0"
      ]
    },
    {
      "cell_type": "code",
      "execution_count": null,
      "metadata": {
        "id": "YK5eCt8fhBKP"
      },
      "outputs": [],
      "source": [
        "IMAGE_SIZE = (224, 224)\n",
        "BATCH_SIZE = 32\n",
        "!wget https://storage.yandexcloud.net/academy.ai/stanford_dogs.zip\n",
        "!unzip -qo \"stanford_dogs.zip\" -d ./dataset"
      ]
    },
    {
      "cell_type": "code",
      "execution_count": null,
      "metadata": {
        "id": "q3st3BcnhN9w"
      },
      "outputs": [],
      "source": [
        "IMAGE_PATH = './dataset/'\n",
        "num_skipped = 0\n",
        "for folder_name in os.listdir(IMAGE_PATH):\n",
        "    folder_path = os.path.join(IMAGE_PATH, folder_name)\n",
        "    for fname in os.listdir(folder_path):\n",
        "        fpath = os.path.join(folder_path, fname)\n",
        "        try:\n",
        "            fobj = open(fpath, \"rb\")\n",
        "            is_jfif = b\"JFIF\" in fobj.peek(10)\n",
        "        finally:\n",
        "            fobj.close()\n",
        "\n",
        "        if not is_jfif:\n",
        "            num_skipped += 1\n",
        "            os.remove(fpath)\n",
        "print(f\"Удалено изображений: {num_skipped}\")"
      ]
    },
    {
      "cell_type": "code",
      "execution_count": null,
      "metadata": {
        "id": "Q1evd93EhRlg"
      },
      "outputs": [],
      "source": [
        "all_classes = sorted(os.listdir(IMAGE_PATH))\n",
        "selected_classes = random.sample(all_classes, 10)\n",
        "selected_image_paths = [os.path.join(IMAGE_PATH, class_name) for class_name in selected_classes]\n",
        "\n",
        "print(f'Выбранные породы: {selected_classes}')"
      ]
    },
    {
      "cell_type": "code",
      "execution_count": null,
      "metadata": {
        "id": "dl_vxwbWhUXn"
      },
      "outputs": [],
      "source": [
        "train_ds = keras.utils.image_dataset_from_directory(\n",
        "    IMAGE_PATH,\n",
        "    validation_split=0.2,\n",
        "    subset=\"training\",\n",
        "    seed=42,\n",
        "    shuffle=True,\n",
        "    image_size=IMAGE_SIZE,\n",
        "    batch_size=BATCH_SIZE,\n",
        "    labels=\"inferred\",\n",
        "    class_names=selected_classes\n",
        ")\n",
        "\n",
        "val_ds = keras.utils.image_dataset_from_directory(\n",
        "    IMAGE_PATH,\n",
        "    validation_split=0.2,\n",
        "    subset=\"validation\",\n",
        "    seed=42,\n",
        "    shuffle=True,\n",
        "    image_size=IMAGE_SIZE,\n",
        "    batch_size=BATCH_SIZE,\n",
        "    labels=\"inferred\",\n",
        "    class_names=selected_classes\n",
        ")\n",
        "\n",
        "CLASS_LIST = selected_classes\n",
        "CLASS_COUNT = len(CLASS_LIST)\n",
        "print(f'Количество классов: {CLASS_COUNT}')\n",
        "print(f'Метки классов: {CLASS_LIST}')"
      ]
    },
    {
      "cell_type": "code",
      "execution_count": null,
      "metadata": {
        "id": "fLyR8oVxhjuS"
      },
      "outputs": [],
      "source": [
        "img_augmentation_layers = [\n",
        "    layers.RandomRotation(factor=0.15),\n",
        "    layers.RandomTranslation(height_factor=0.1, width_factor=0.1),\n",
        "    layers.RandomFlip(),\n",
        "    layers.RandomContrast(factor=0.1),\n",
        "]\n",
        "\n",
        "def img_augmentation(images):\n",
        "    for layer in img_augmentation_layers:\n",
        "        images = layer(images)\n",
        "    return images\n",
        "\n",
        "train_ds = train_ds.map(\n",
        "    lambda img, label: (img_augmentation(img), keras.utils.to_categorical(label, num_classes=CLASS_COUNT)),\n",
        "    num_parallel_calls=tf_data.AUTOTUNE,\n",
        ")\n",
        "\n",
        "val_ds = val_ds.map(\n",
        "    lambda img, label: (img, keras.utils.to_categorical(label, num_classes=CLASS_COUNT)),\n",
        "    num_parallel_calls=tf_data.AUTOTUNE,\n",
        ")\n",
        "\n",
        "train_ds = train_ds.prefetch(tf_data.AUTOTUNE)\n",
        "val_ds = val_ds.prefetch(tf_data.AUTOTUNE)"
      ]
    },
    {
      "cell_type": "code",
      "execution_count": null,
      "metadata": {
        "colab": {
          "background_save": true
        },
        "id": "bzNg4uJ6hnsZ"
      },
      "outputs": [],
      "source": [
        "def build_model(num_classes):\n",
        "    inputs = layers.Input(shape=(IMAGE_SIZE[0], IMAGE_SIZE[1], 3))\n",
        "    model = EfficientNetV2B0(include_top=False, input_tensor=inputs, weights=\"imagenet\")\n",
        "    model.trainable = False\n",
        "\n",
        "    x = layers.GlobalAveragePooling2D(name=\"avg_pool\")(model.output)\n",
        "    x = layers.BatchNormalization()(x)\n",
        "    top_dropout_rate = 0.2\n",
        "    x = layers.Dropout(top_dropout_rate, name=\"top_dropout\")(x)\n",
        "    outputs = layers.Dense(num_classes, activation=\"softmax\", name=\"pred\")(x)\n",
        "\n",
        "    model = keras.Model(inputs, outputs, name=\"EfficientNetV2B0\")\n",
        "    optimizer = keras.optimizers.Adam(learning_rate=1e-2)\n",
        "    model.compile(optimizer=optimizer, loss=\"categorical_crossentropy\", metrics=[\"acc\"])\n",
        "    return model\n",
        "\n",
        "model = build_model(num_classes=CLASS_COUNT)\n",
        "epochs = 20\n",
        "\n",
        "callbacks = [\n",
        "    keras.callbacks.ModelCheckpoint(filepath='best_model_pretrain.keras', monitor='val_acc', save_best_only=True, mode='max', verbose=0)\n",
        "]\n",
        "\n",
        "history = model.fit(train_ds, epochs=epochs, validation_data=val_ds, callbacks=callbacks)"
      ]
    },
    {
      "cell_type": "code",
      "execution_count": null,
      "metadata": {
        "colab": {
          "background_save": true
        },
        "id": "7MonvE6ftn74"
      },
      "outputs": [],
      "source": [
        "def unfreeze_model(model):\n",
        "    for layer in model.layers[-20:]:\n",
        "        if not isinstance(layer, layers.BatchNormalization):\n",
        "            layer.trainable = True\n",
        "    optimizer = keras.optimizers.Adam(learning_rate=1e-5)\n",
        "    model.compile(optimizer=optimizer, loss=\"categorical_crossentropy\", metrics=[\"acc\"])\n",
        "\n",
        "unfreeze_model(model)\n",
        "epochs = 4\n",
        "history = model.fit(train_ds, epochs=epochs, validation_data=val_ds)"
      ]
    },
    {
      "cell_type": "code",
      "execution_count": null,
      "metadata": {
        "colab": {
          "background_save": true
        },
        "id": "haU__8uc0rXe"
      },
      "outputs": [],
      "source": [
        "def show_plot(history):\n",
        "    acc = history.history['acc']\n",
        "    val_acc = history.history['val_acc']\n",
        "    loss = history.history['loss']\n",
        "    val_loss = history.history['val_loss']\n",
        "    epochs = range(1, len(acc) + 1)\n",
        "    plt.plot(epochs, acc, 'r', label='Точность на обучающей выборке')\n",
        "    plt.plot(epochs, val_acc, 'b', label='Точность на проверочной выборке')\n",
        "    plt.title('График точности на обучающей и проверочной выборках')\n",
        "    plt.legend()\n",
        "    plt.figure()\n",
        "    plt.plot(epochs, loss, 'r', label='Потери на обучающей выборке')\n",
        "    plt.plot(epochs, val_loss, 'b', label='Потери на проверочной выборке')\n",
        "    plt.title('График потерь на обучающей и проверочной выборках')\n",
        "    plt.legend()\n",
        "    plt.show()\n",
        "\n",
        "show_plot(history)"
      ]
    },
    {
      "cell_type": "code",
      "execution_count": null,
      "metadata": {
        "colab": {
          "background_save": true
        },
        "id": "y5Xe_4L-01KA"
      },
      "outputs": [],
      "source": [
        "!wget https://storage.yandexcloud.net/academy.ai/Cardigan.jpeg\n",
        "TEST_IMG='./Cardigan.jpeg'\n",
        "\n",
        "img = keras.utils.load_img(TEST_IMG, target_size=(IMAGE_SIZE[0], IMAGE_SIZE[1])) # Загружаем картинку\n",
        "plt.imshow(img)\n",
        "\n",
        "\n",
        "img_array = keras.utils.img_to_array(img) # Преобразуем картинку в тензор\n",
        "img_array = keras.ops.expand_dims(img_array, 0)  # Создание дополнительного измерения для батча\n",
        "\n",
        "predictions = model.predict(img_array)\n",
        "\n",
        "\n",
        "plt.title(\"Предсказание: %s\\n Истиная порода: Cardigan \\n Вероятность: %2.1f%%\" %\n",
        " (CLASS_LIST[keras.ops.argmax(predictions)],\n",
        "  keras.ops.max(predictions)*100)  ) # Вывод метки\n",
        "plt.axis(\"off\")"
      ]
    },
    {
      "cell_type": "markdown",
      "metadata": {
        "id": "oPrXIAZbK0Y7"
      },
      "source": [
        "**Примечание**. В 2021 году появилась вторая версия модели EfficientNetV2 (https://arxiv.org/pdf/2104.00298.pdf), которая была добавлена в Keras."
      ]
    }
  ],
  "metadata": {
    "colab": {
      "provenance": []
    },
    "kernelspec": {
      "display_name": "Python 3",
      "name": "python3"
    },
    "language_info": {
      "name": "python"
    }
  },
  "nbformat": 4,
  "nbformat_minor": 0
}